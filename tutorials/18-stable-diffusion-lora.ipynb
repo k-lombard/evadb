{
 "cells": [
  {
   "cell_type": "markdown",
   "metadata": {},
   "source": [
    "<table align=\"left\">\n",
    "  <td>\n",
    "    <a target=\"_blank\" href=\"https://colab.research.google.com/github/georgia-tech-db/eva/blob/master/tutorials/16-stable-diffusion.ipynb\"><img src=\"https://www.tensorflow.org/images/colab_logo_32px.png\" /> Run on Google Colab</a>\n",
    "  </td>\n",
    "  <td>\n",
    "    <a target=\"_blank\" href=\"https://github.com/georgia-tech-db/eva/blob/master/tutorials/16-stable-diffusion.ipynb\"><img src=\"https://www.tensorflow.org/images/GitHub-Mark-32px.png\" /> View source on GitHub</a>\n",
    "  </td>\n",
    "  <td>\n",
    "    <a target=\"_blank\" href=\"https://github.com/georgia-tech-db/eva/raw/master/tutorials/16-stable-diffusion.ipynb\"><img src=\"https://www.tensorflow.org/images/download_logo_32px.png\" /> Download notebook</a>\n",
    "  </td>\n",
    "</table><br><br>"
   ]
  },
  {
   "cell_type": "code",
   "execution_count": 1,
   "metadata": {},
   "outputs": [],
   "source": [
    "# Import dependencies\n",
    "import os\n",
    "from IPython.display import Image"
   ]
  },
  {
   "cell_type": "markdown",
   "metadata": {},
   "source": [
    "### Connect to EvaDB"
   ]
  },
  {
   "cell_type": "code",
   "execution_count": 2,
   "metadata": {},
   "outputs": [
    {
     "name": "stdout",
     "output_type": "stream",
     "text": [
      "\u001b[33mDEPRECATION: omegaconf 2.1.0 has a non-standard dependency specifier PyYAML>=5.1.*. pip 23.3 will enforce this behaviour change. A possible replacement is to upgrade to a newer version of omegaconf or contact the author to suggest that they release a version with a conforming dependency specifiers. Discussion can be found at https://github.com/pypa/pip/issues/12063\u001b[0m\u001b[33m\n",
      "\u001b[0mNote: you may need to restart the kernel to use updated packages.\n",
      "Requirement already satisfied: replicate in /Users/kacylombard/miniconda3/lib/python3.11/site-packages (0.15.4)\n",
      "Requirement already satisfied: packaging in /Users/kacylombard/miniconda3/lib/python3.11/site-packages (from replicate) (23.1)\n",
      "Requirement already satisfied: pydantic>1 in /Users/kacylombard/miniconda3/lib/python3.11/site-packages (from replicate) (1.10.13)\n",
      "Requirement already satisfied: httpx<1,>=0.21.0 in /Users/kacylombard/miniconda3/lib/python3.11/site-packages (from replicate) (0.25.0)\n",
      "Requirement already satisfied: certifi in /Users/kacylombard/miniconda3/lib/python3.11/site-packages (from httpx<1,>=0.21.0->replicate) (2023.7.22)\n",
      "Requirement already satisfied: httpcore<0.19.0,>=0.18.0 in /Users/kacylombard/miniconda3/lib/python3.11/site-packages (from httpx<1,>=0.21.0->replicate) (0.18.0)\n",
      "Requirement already satisfied: idna in /Users/kacylombard/miniconda3/lib/python3.11/site-packages (from httpx<1,>=0.21.0->replicate) (3.4)\n",
      "Requirement already satisfied: sniffio in /Users/kacylombard/miniconda3/lib/python3.11/site-packages (from httpx<1,>=0.21.0->replicate) (1.2.0)\n",
      "Requirement already satisfied: typing-extensions>=4.2.0 in /Users/kacylombard/miniconda3/lib/python3.11/site-packages (from pydantic>1->replicate) (4.7.1)\n",
      "Requirement already satisfied: anyio<5.0,>=3.0 in /Users/kacylombard/miniconda3/lib/python3.11/site-packages (from httpcore<0.19.0,>=0.18.0->httpx<1,>=0.21.0->replicate) (3.5.0)\n",
      "Requirement already satisfied: h11<0.15,>=0.13 in /Users/kacylombard/miniconda3/lib/python3.11/site-packages (from httpcore<0.19.0,>=0.18.0->httpx<1,>=0.21.0->replicate) (0.14.0)\n",
      "\u001b[33mDEPRECATION: omegaconf 2.1.0 has a non-standard dependency specifier PyYAML>=5.1.*. pip 23.3 will enforce this behaviour change. A possible replacement is to upgrade to a newer version of omegaconf or contact the author to suggest that they release a version with a conforming dependency specifiers. Discussion can be found at https://github.com/pypa/pip/issues/12063\u001b[0m\u001b[33m\n",
      "\u001b[0mNote: you may need to restart the kernel to use updated packages.\n",
      "Requirement already satisfied: diffusers in /Users/kacylombard/miniconda3/lib/python3.11/site-packages (0.21.4)\n",
      "Requirement already satisfied: Pillow in /Users/kacylombard/miniconda3/lib/python3.11/site-packages (from diffusers) (9.4.0)\n",
      "Requirement already satisfied: filelock in /Users/kacylombard/miniconda3/lib/python3.11/site-packages (from diffusers) (3.9.0)\n",
      "Requirement already satisfied: huggingface-hub>=0.13.2 in /Users/kacylombard/miniconda3/lib/python3.11/site-packages (from diffusers) (0.15.1)\n",
      "Requirement already satisfied: importlib-metadata in /Users/kacylombard/miniconda3/lib/python3.11/site-packages (from diffusers) (6.0.0)\n",
      "Requirement already satisfied: numpy in /Users/kacylombard/miniconda3/lib/python3.11/site-packages (from diffusers) (1.24.3)\n",
      "Requirement already satisfied: regex!=2019.12.17 in /Users/kacylombard/miniconda3/lib/python3.11/site-packages (from diffusers) (2022.7.9)\n",
      "Requirement already satisfied: requests in /Users/kacylombard/miniconda3/lib/python3.11/site-packages (from diffusers) (2.31.0)\n",
      "Requirement already satisfied: safetensors>=0.3.1 in /Users/kacylombard/miniconda3/lib/python3.11/site-packages (from diffusers) (0.3.2)\n",
      "Requirement already satisfied: fsspec in /Users/kacylombard/miniconda3/lib/python3.11/site-packages (from huggingface-hub>=0.13.2->diffusers) (2023.4.0)\n",
      "Requirement already satisfied: tqdm>=4.42.1 in /Users/kacylombard/miniconda3/lib/python3.11/site-packages (from huggingface-hub>=0.13.2->diffusers) (4.65.0)\n",
      "Requirement already satisfied: pyyaml>=5.1 in /Users/kacylombard/miniconda3/lib/python3.11/site-packages (from huggingface-hub>=0.13.2->diffusers) (6.0)\n",
      "Requirement already satisfied: typing-extensions>=3.7.4.3 in /Users/kacylombard/miniconda3/lib/python3.11/site-packages (from huggingface-hub>=0.13.2->diffusers) (4.7.1)\n",
      "Requirement already satisfied: packaging>=20.9 in /Users/kacylombard/miniconda3/lib/python3.11/site-packages (from huggingface-hub>=0.13.2->diffusers) (23.1)\n",
      "Requirement already satisfied: zipp>=0.5 in /Users/kacylombard/miniconda3/lib/python3.11/site-packages (from importlib-metadata->diffusers) (3.11.0)\n",
      "Requirement already satisfied: charset-normalizer<4,>=2 in /Users/kacylombard/miniconda3/lib/python3.11/site-packages (from requests->diffusers) (2.0.4)\n",
      "Requirement already satisfied: idna<4,>=2.5 in /Users/kacylombard/miniconda3/lib/python3.11/site-packages (from requests->diffusers) (3.4)\n",
      "Requirement already satisfied: urllib3<3,>=1.21.1 in /Users/kacylombard/miniconda3/lib/python3.11/site-packages (from requests->diffusers) (1.26.16)\n",
      "Requirement already satisfied: certifi>=2017.4.17 in /Users/kacylombard/miniconda3/lib/python3.11/site-packages (from requests->diffusers) (2023.7.22)\n",
      "\u001b[33mDEPRECATION: omegaconf 2.1.0 has a non-standard dependency specifier PyYAML>=5.1.*. pip 23.3 will enforce this behaviour change. A possible replacement is to upgrade to a newer version of omegaconf or contact the author to suggest that they release a version with a conforming dependency specifiers. Discussion can be found at https://github.com/pypa/pip/issues/12063\u001b[0m\u001b[33m\n",
      "\u001b[0mNote: you may need to restart the kernel to use updated packages.\n",
      "Requirement already satisfied: accelerate in /Users/kacylombard/miniconda3/lib/python3.11/site-packages (0.23.0)\n",
      "Requirement already satisfied: numpy>=1.17 in /Users/kacylombard/miniconda3/lib/python3.11/site-packages (from accelerate) (1.24.3)\n",
      "Requirement already satisfied: packaging>=20.0 in /Users/kacylombard/miniconda3/lib/python3.11/site-packages (from accelerate) (23.1)\n",
      "Requirement already satisfied: psutil in /Users/kacylombard/miniconda3/lib/python3.11/site-packages (from accelerate) (5.9.0)\n",
      "Requirement already satisfied: pyyaml in /Users/kacylombard/miniconda3/lib/python3.11/site-packages (from accelerate) (6.0)\n",
      "Requirement already satisfied: torch>=1.10.0 in /Users/kacylombard/miniconda3/lib/python3.11/site-packages (from accelerate) (2.1.0)\n",
      "Requirement already satisfied: huggingface-hub in /Users/kacylombard/miniconda3/lib/python3.11/site-packages (from accelerate) (0.15.1)\n",
      "Requirement already satisfied: filelock in /Users/kacylombard/miniconda3/lib/python3.11/site-packages (from torch>=1.10.0->accelerate) (3.9.0)\n",
      "Requirement already satisfied: typing-extensions in /Users/kacylombard/miniconda3/lib/python3.11/site-packages (from torch>=1.10.0->accelerate) (4.7.1)\n",
      "Requirement already satisfied: sympy in /Users/kacylombard/miniconda3/lib/python3.11/site-packages (from torch>=1.10.0->accelerate) (1.11.1)\n",
      "Requirement already satisfied: networkx in /Users/kacylombard/miniconda3/lib/python3.11/site-packages (from torch>=1.10.0->accelerate) (3.1)\n",
      "Requirement already satisfied: jinja2 in /Users/kacylombard/miniconda3/lib/python3.11/site-packages (from torch>=1.10.0->accelerate) (3.1.2)\n",
      "Requirement already satisfied: fsspec in /Users/kacylombard/miniconda3/lib/python3.11/site-packages (from torch>=1.10.0->accelerate) (2023.4.0)\n",
      "Requirement already satisfied: requests in /Users/kacylombard/miniconda3/lib/python3.11/site-packages (from huggingface-hub->accelerate) (2.31.0)\n",
      "Requirement already satisfied: tqdm>=4.42.1 in /Users/kacylombard/miniconda3/lib/python3.11/site-packages (from huggingface-hub->accelerate) (4.65.0)\n",
      "Requirement already satisfied: MarkupSafe>=2.0 in /Users/kacylombard/miniconda3/lib/python3.11/site-packages (from jinja2->torch>=1.10.0->accelerate) (2.1.1)\n",
      "Requirement already satisfied: charset-normalizer<4,>=2 in /Users/kacylombard/miniconda3/lib/python3.11/site-packages (from requests->huggingface-hub->accelerate) (2.0.4)\n",
      "Requirement already satisfied: idna<4,>=2.5 in /Users/kacylombard/miniconda3/lib/python3.11/site-packages (from requests->huggingface-hub->accelerate) (3.4)\n",
      "Requirement already satisfied: urllib3<3,>=1.21.1 in /Users/kacylombard/miniconda3/lib/python3.11/site-packages (from requests->huggingface-hub->accelerate) (1.26.16)\n",
      "Requirement already satisfied: certifi>=2017.4.17 in /Users/kacylombard/miniconda3/lib/python3.11/site-packages (from requests->huggingface-hub->accelerate) (2023.7.22)\n",
      "Requirement already satisfied: mpmath>=0.19 in /Users/kacylombard/miniconda3/lib/python3.11/site-packages (from sympy->torch>=1.10.0->accelerate) (1.3.0)\n"
     ]
    },
    {
     "name": "stdout",
     "output_type": "stream",
     "text": [
      "\u001b[33mDEPRECATION: omegaconf 2.1.0 has a non-standard dependency specifier PyYAML>=5.1.*. pip 23.3 will enforce this behaviour change. A possible replacement is to upgrade to a newer version of omegaconf or contact the author to suggest that they release a version with a conforming dependency specifiers. Discussion can be found at https://github.com/pypa/pip/issues/12063\u001b[0m\u001b[33m\n",
      "\u001b[0mNote: you may need to restart the kernel to use updated packages.\n",
      "Requirement already satisfied: importlib in /Users/kacylombard/miniconda3/lib/python3.11/site-packages (1.0.4)\n",
      "\u001b[33mDEPRECATION: omegaconf 2.1.0 has a non-standard dependency specifier PyYAML>=5.1.*. pip 23.3 will enforce this behaviour change. A possible replacement is to upgrade to a newer version of omegaconf or contact the author to suggest that they release a version with a conforming dependency specifiers. Discussion can be found at https://github.com/pypa/pip/issues/12063\u001b[0m\u001b[33m\n",
      "\u001b[0mNote: you may need to restart the kernel to use updated packages.\n",
      "Collecting argparse\n",
      "  Using cached argparse-1.4.0-py2.py3-none-any.whl (23 kB)\n",
      "\u001b[33mDEPRECATION: omegaconf 2.1.0 has a non-standard dependency specifier PyYAML>=5.1.*. pip 23.3 will enforce this behaviour change. A possible replacement is to upgrade to a newer version of omegaconf or contact the author to suggest that they release a version with a conforming dependency specifiers. Discussion can be found at https://github.com/pypa/pip/issues/12063\u001b[0m\u001b[33m\n",
      "\u001b[0mInstalling collected packages: argparse\n",
      "Successfully installed argparse-1.4.0\n",
      "Note: you may need to restart the kernel to use updated packages.\n",
      "Requirement already satisfied: omegaconf==2.1 in /Users/kacylombard/miniconda3/lib/python3.11/site-packages (2.1.0)\n",
      "Requirement already satisfied: antlr4-python3-runtime==4.8 in /Users/kacylombard/miniconda3/lib/python3.11/site-packages (from omegaconf==2.1) (4.8)\n",
      "Requirement already satisfied: PyYAML>=5.1.* in /Users/kacylombard/miniconda3/lib/python3.11/site-packages (from omegaconf==2.1) (6.0)\n",
      "\u001b[33mDEPRECATION: omegaconf 2.1.0 has a non-standard dependency specifier PyYAML>=5.1.*. pip 23.3 will enforce this behaviour change. A possible replacement is to upgrade to a newer version of omegaconf or contact the author to suggest that they release a version with a conforming dependency specifiers. Discussion can be found at https://github.com/pypa/pip/issues/12063\u001b[0m\u001b[33m\n",
      "\u001b[0mNote: you may need to restart the kernel to use updated packages.\n"
     ]
    }
   ],
   "source": [
    "%pip install --quiet \"evadb[document,notebook]\"\n",
    "%pip install replicate\n",
    "%pip install diffusers\n",
    "%pip install accelerate\n",
    "%pip install importlib\n",
    "%pip install argparse\n",
    "%pip install omegaconf==2.1\n",
    "import evadb\n",
    "cursor = evadb.connect().cursor()"
   ]
  },
  {
   "cell_type": "markdown",
   "metadata": {},
   "source": [
    "### Get Input Prompt from User"
   ]
  },
  {
   "cell_type": "code",
   "execution_count": 3,
   "metadata": {},
   "outputs": [],
   "source": [
    "# to collect all user prompts\n",
    "def get_user_input():\n",
    "    print('Welcome to EvaDB!')\n",
    "    print('Enter your image zip file location.')\n",
    "    print('========================================')\n",
    "    prompts = []\n",
    "    prompt=None\n",
    "\n",
    "    # receive all prompts from user\n",
    "    prompt = input(\n",
    "        'Enter prompt: '\n",
    "    ).strip()\n",
    "\n",
    "    return prompt"
   ]
  },
  {
   "cell_type": "code",
   "execution_count": 4,
   "metadata": {},
   "outputs": [
    {
     "name": "stdout",
     "output_type": "stream",
     "text": [
      "Welcome to EvaDB!\n",
      "Enter your image zip file location.\n",
      "========================================\n",
      "Enter prompt: /Users/kacylombard/Desktop/evadb/evadb/test/integration_tests/long/functions/test_images_for_lora\n"
     ]
    }
   ],
   "source": [
    "# getting user input\n",
    "prompt = get_user_input()"
   ]
  },
  {
   "cell_type": "markdown",
   "metadata": {},
   "source": [
    "### Set API Token Environment Variable"
   ]
  },
  {
   "cell_type": "code",
   "execution_count": 5,
   "metadata": {},
   "outputs": [],
   "source": [
    "# to set the replicate API token environment variable\n",
    "def set_replicate_token() -> None:\n",
    "    key = input('Enter your Replicate API Token: ').strip()\n",
    "\n",
    "    try:\n",
    "        os.environ['REPLICATE_API_TOKEN'] = key\n",
    "        print('Environment variable set successfully.')\n",
    "    except Exception as e:\n",
    "        print(\"❗️ Session ended with an error.\")\n",
    "        print(e)\n",
    "        print(\"===========================================\")"
   ]
  },
  {
   "cell_type": "code",
   "execution_count": 6,
   "metadata": {},
   "outputs": [
    {
     "name": "stdout",
     "output_type": "stream",
     "text": [
      "Enter your Replicate API Token: r8_Zunf00BeIdS4OareDu4OnYze7qZHab41memU3\n",
      "Environment variable set successfully.\n"
     ]
    }
   ],
   "source": [
    "# setting api token as env variable\n",
    "set_replicate_token()"
   ]
  },
  {
   "cell_type": "markdown",
   "metadata": {},
   "source": [
    "### Load the Stable Diffusion UDF"
   ]
  },
  {
   "cell_type": "code",
   "execution_count": 64,
   "metadata": {},
   "outputs": [
    {
     "data": {
      "text/plain": [
       "<evadb.models.storage.batch.Batch at 0x17aa68150>"
      ]
     },
     "execution_count": 64,
     "metadata": {},
     "output_type": "execute_result"
    }
   ],
   "source": [
    "# set up the stable diffusion UDF available at functions/stable_diffusion.py\n",
    "cursor.query(\"\"\"CREATE FUNCTION IF NOT EXISTS StableDiffusionLoRA\n",
    "            IMPL  '../evadb/functions/stable_diffusion_lora.py';\n",
    "                \"\"\").execute()"
   ]
  },
  {
   "cell_type": "markdown",
   "metadata": {},
   "source": [
    "### Create Table"
   ]
  },
  {
   "cell_type": "code",
   "execution_count": 8,
   "metadata": {},
   "outputs": [
    {
     "data": {
      "text/plain": [
       "<evadb.models.storage.batch.Batch at 0x282eb7f50>"
      ]
     },
     "execution_count": 8,
     "metadata": {},
     "output_type": "execute_result"
    }
   ],
   "source": [
    "# delete the table if it already exists\n",
    "cursor.query(\"\"\"DROP TABLE IF EXISTS MyImages\n",
    "                \"\"\").execute()\n"
   ]
  },
  {
   "cell_type": "markdown",
   "metadata": {},
   "source": [
    "### Load Prompts into Table"
   ]
  },
  {
   "cell_type": "code",
   "execution_count": 9,
   "metadata": {},
   "outputs": [
    {
     "name": "stdout",
     "output_type": "stream",
     "text": [
      "<DirEntry 'download.jpeg'>\n",
      "/Users/kacylombard/Desktop/evadb/evadb/test/integration_tests/long/functions/test_images_for_lora/download.jpeg\n",
      "<DirEntry 'ebdd5c56c4ef74307c27a09f13f9cba395233951.jpg'>\n",
      "/Users/kacylombard/Desktop/evadb/evadb/test/integration_tests/long/functions/test_images_for_lora/ebdd5c56c4ef74307c27a09f13f9cba395233951.jpg\n",
      "<DirEntry 'nightmare.webp'>\n",
      "/Users/kacylombard/Desktop/evadb/evadb/test/integration_tests/long/functions/test_images_for_lora/nightmare.webp\n",
      "<DirEntry '387-c7e4d56f-1.jpg'>\n",
      "/Users/kacylombard/Desktop/evadb/evadb/test/integration_tests/long/functions/test_images_for_lora/387-c7e4d56f-1.jpg\n",
      "<DirEntry 'images.jpeg'>\n",
      "/Users/kacylombard/Desktop/evadb/evadb/test/integration_tests/long/functions/test_images_for_lora/images.jpeg\n",
      "<DirEntry 'gothic_art_and_architecture_7.jpg'>\n",
      "/Users/kacylombard/Desktop/evadb/evadb/test/integration_tests/long/functions/test_images_for_lora/gothic_art_and_architecture_7.jpg\n",
      "<DirEntry 'The-Crucifixion-and-Last-Judgement-diptych-by-Jan-van-Eyck.webp'>\n",
      "/Users/kacylombard/Desktop/evadb/evadb/test/integration_tests/long/functions/test_images_for_lora/The-Crucifixion-and-Last-Judgement-diptych-by-Jan-van-Eyck.webp\n",
      "<DirEntry '41751.jpg'>\n",
      "/Users/kacylombard/Desktop/evadb/evadb/test/integration_tests/long/functions/test_images_for_lora/41751.jpg\n",
      "<DirEntry 'Gothic-Painting.jpg'>\n",
      "/Users/kacylombard/Desktop/evadb/evadb/test/integration_tests/long/functions/test_images_for_lora/Gothic-Painting.jpg\n",
      "<DirEntry '0ac432d17ecae8efc1243b2ebc9dd1707f5adb45-1624380677-3d801da8-1920x1280.jpg'>\n",
      "/Users/kacylombard/Desktop/evadb/evadb/test/integration_tests/long/functions/test_images_for_lora/0ac432d17ecae8efc1243b2ebc9dd1707f5adb45-1624380677-3d801da8-1920x1280.jpg\n",
      "<DirEntry 'love-and-pilgrimm.webp'>\n",
      "/Users/kacylombard/Desktop/evadb/evadb/test/integration_tests/long/functions/test_images_for_lora/love-and-pilgrimm.webp\n",
      "<DirEntry 'The-Rucellai-Madonna-by-Duccio-di-Buoninsegna-1200x1958.jpg'>\n",
      "/Users/kacylombard/Desktop/evadb/evadb/test/integration_tests/long/functions/test_images_for_lora/The-Rucellai-Madonna-by-Duccio-di-Buoninsegna-1200x1958.jpg\n",
      "<DirEntry 'Famous-Gothic-Paintings-848x530.jpg'>\n",
      "/Users/kacylombard/Desktop/evadb/evadb/test/integration_tests/long/functions/test_images_for_lora/Famous-Gothic-Paintings-848x530.jpg\n",
      "<DirEntry 'Famous-Gothic-Paintings-848x530 (1).jpg'>\n",
      "/Users/kacylombard/Desktop/evadb/evadb/test/integration_tests/long/functions/test_images_for_lora/Famous-Gothic-Paintings-848x530 (1).jpg\n",
      "<DirEntry 'Grant_Wood_-_American_Gothic_-_Google_Art_Project.jpg'>\n",
      "/Users/kacylombard/Desktop/evadb/evadb/test/integration_tests/long/functions/test_images_for_lora/Grant_Wood_-_American_Gothic_-_Google_Art_Project.jpg\n",
      "<DirEntry 'Famous-Gothic-Artist.jpg'>\n",
      "/Users/kacylombard/Desktop/evadb/evadb/test/integration_tests/long/functions/test_images_for_lora/Famous-Gothic-Artist.jpg\n",
      "<DirEntry 'unnamed.jpg'>\n",
      "/Users/kacylombard/Desktop/evadb/evadb/test/integration_tests/long/functions/test_images_for_lora/unnamed.jpg\n",
      "<DirEntry 'istockphoto-157389440-612x612.jpg'>\n",
      "/Users/kacylombard/Desktop/evadb/evadb/test/integration_tests/long/functions/test_images_for_lora/istockphoto-157389440-612x612.jpg\n",
      "<DirEntry 'galileus_gothic_art_during_the_Middle_Ages_f6feda0b-7495-464e-afa1-a2ed87c664e4-1024x512.jpg'>\n",
      "/Users/kacylombard/Desktop/evadb/evadb/test/integration_tests/long/functions/test_images_for_lora/galileus_gothic_art_during_the_Middle_Ages_f6feda0b-7495-464e-afa1-a2ed87c664e4-1024x512.jpg\n"
     ]
    }
   ],
   "source": [
    "import PIL.Image\n",
    "for file_number, file_entry in enumerate(os.scandir(prompt)):\n",
    "    # filter out non-images first\n",
    "    print(file_entry)\n",
    "    print(file_entry.path)\n",
    "    cursor.query(f\"\"\"LOAD IMAGE '{file_entry.path}' INTO MyImages;\"\"\").execute()"
   ]
  },
  {
   "cell_type": "markdown",
   "metadata": {},
   "source": [
    "### Run Stable Diffusion on the Prompts"
   ]
  },
  {
   "cell_type": "code",
   "execution_count": 65,
   "metadata": {},
   "outputs": [
    {
     "name": "stdout",
     "output_type": "stream",
     "text": [
      "<bound method DataFrame.info of     _row_id                                               name  \\\n",
      "0         1  /Users/kacylombard/Desktop/evadb/evadb/test/in...   \n",
      "1         2  /Users/kacylombard/Desktop/evadb/evadb/test/in...   \n",
      "2         3  /Users/kacylombard/Desktop/evadb/evadb/test/in...   \n",
      "3         4  /Users/kacylombard/Desktop/evadb/evadb/test/in...   \n",
      "4         5  /Users/kacylombard/Desktop/evadb/evadb/test/in...   \n",
      "5         6  /Users/kacylombard/Desktop/evadb/evadb/test/in...   \n",
      "6         7  /Users/kacylombard/Desktop/evadb/evadb/test/in...   \n",
      "7         8  /Users/kacylombard/Desktop/evadb/evadb/test/in...   \n",
      "8         9  /Users/kacylombard/Desktop/evadb/evadb/test/in...   \n",
      "9        10  /Users/kacylombard/Desktop/evadb/evadb/test/in...   \n",
      "10       11  /Users/kacylombard/Desktop/evadb/evadb/test/in...   \n",
      "11       12  /Users/kacylombard/Desktop/evadb/evadb/test/in...   \n",
      "12       13  /Users/kacylombard/Desktop/evadb/evadb/test/in...   \n",
      "13       14  /Users/kacylombard/Desktop/evadb/evadb/test/in...   \n",
      "14       15  /Users/kacylombard/Desktop/evadb/evadb/test/in...   \n",
      "15       16  /Users/kacylombard/Desktop/evadb/evadb/test/in...   \n",
      "16       17  /Users/kacylombard/Desktop/evadb/evadb/test/in...   \n",
      "17       18  /Users/kacylombard/Desktop/evadb/evadb/test/in...   \n",
      "18       19  /Users/kacylombard/Desktop/evadb/evadb/test/in...   \n",
      "\n",
      "                                                 data  \n",
      "0   [[[94, 95, 97], [81, 83, 82], [102, 104, 99], ...  \n",
      "1   [[[0, 0, 0], [0, 0, 0], [0, 0, 0], [0, 0, 0], ...  \n",
      "2   [[[11, 12, 21], [9, 10, 19], [9, 10, 19], [11,...  \n",
      "3   [[[112, 132, 133], [100, 113, 147], [108, 119,...  \n",
      "4   [[[133, 138, 118], [148, 153, 133], [151, 158,...  \n",
      "5   [[[255, 253, 254], [255, 253, 254], [255, 253,...  \n",
      "6   [[[72, 43, 28], [93, 64, 49], [167, 137, 122],...  \n",
      "7   [[[246, 246, 246], [246, 246, 246], [246, 246,...  \n",
      "8   [[[80, 77, 72], [91, 88, 83], [93, 90, 85], [8...  \n",
      "9   [[[10, 0, 3], [6, 0, 0], [8, 0, 4], [3, 0, 2],...  \n",
      "10  [[[57, 141, 169], [54, 138, 167], [48, 135, 16...  \n",
      "11  [[[255, 255, 255], [255, 255, 255], [255, 255,...  \n",
      "12  [[[148, 135, 103], [244, 231, 187], [219, 209,...  \n",
      "13  [[[148, 135, 103], [244, 231, 187], [219, 209,...  \n",
      "14  [[[108, 102, 90], [107, 101, 89], [105, 99, 85...  \n",
      "15  [[[111, 57, 19], [100, 48, 11], [175, 122, 88]...  \n",
      "16  [[[227, 223, 220], [227, 223, 220], [227, 223,...  \n",
      "17  [[[106, 106, 98], [11, 11, 3], [11, 11, 3], [3...  \n",
      "18  [[[7, 9, 8], [7, 9, 8], [7, 9, 8], [7, 9, 8], ...  >\n",
      "_row_id                                                    1\n",
      "name       /Users/kacylombard/Desktop/evadb/evadb/test/in...\n",
      "data       [[[94, 95, 97], [81, 83, 82], [102, 104, 99], ...\n",
      "Name: 0, dtype: object\n",
      "_row_id                                                    2\n",
      "name       /Users/kacylombard/Desktop/evadb/evadb/test/in...\n",
      "data       [[[0, 0, 0], [0, 0, 0], [0, 0, 0], [0, 0, 0], ...\n",
      "Name: 1, dtype: object\n",
      "_row_id                                                    3\n",
      "name       /Users/kacylombard/Desktop/evadb/evadb/test/in...\n",
      "data       [[[11, 12, 21], [9, 10, 19], [9, 10, 19], [11,...\n",
      "Name: 2, dtype: object\n",
      "_row_id                                                    4\n",
      "name       /Users/kacylombard/Desktop/evadb/evadb/test/in...\n",
      "data       [[[112, 132, 133], [100, 113, 147], [108, 119,...\n",
      "Name: 3, dtype: object\n",
      "_row_id                                                    5\n",
      "name       /Users/kacylombard/Desktop/evadb/evadb/test/in...\n",
      "data       [[[133, 138, 118], [148, 153, 133], [151, 158,...\n",
      "Name: 4, dtype: object\n",
      "_row_id                                                    6\n",
      "name       /Users/kacylombard/Desktop/evadb/evadb/test/in...\n",
      "data       [[[255, 253, 254], [255, 253, 254], [255, 253,...\n",
      "Name: 5, dtype: object\n",
      "_row_id                                                    7\n",
      "name       /Users/kacylombard/Desktop/evadb/evadb/test/in...\n",
      "data       [[[72, 43, 28], [93, 64, 49], [167, 137, 122],...\n",
      "Name: 6, dtype: object\n",
      "_row_id                                                    8\n",
      "name       /Users/kacylombard/Desktop/evadb/evadb/test/in...\n",
      "data       [[[246, 246, 246], [246, 246, 246], [246, 246,...\n",
      "Name: 7, dtype: object\n",
      "_row_id                                                    9\n",
      "name       /Users/kacylombard/Desktop/evadb/evadb/test/in...\n",
      "data       [[[80, 77, 72], [91, 88, 83], [93, 90, 85], [8...\n",
      "Name: 8, dtype: object\n",
      "_row_id                                                   10\n",
      "name       /Users/kacylombard/Desktop/evadb/evadb/test/in...\n",
      "data       [[[10, 0, 3], [6, 0, 0], [8, 0, 4], [3, 0, 2],...\n",
      "Name: 9, dtype: object\n",
      "_row_id                                                   11\n",
      "name       /Users/kacylombard/Desktop/evadb/evadb/test/in...\n",
      "data       [[[57, 141, 169], [54, 138, 167], [48, 135, 16...\n",
      "Name: 10, dtype: object\n",
      "_row_id                                                   12\n",
      "name       /Users/kacylombard/Desktop/evadb/evadb/test/in...\n",
      "data       [[[255, 255, 255], [255, 255, 255], [255, 255,...\n",
      "Name: 11, dtype: object\n",
      "_row_id                                                   13\n",
      "name       /Users/kacylombard/Desktop/evadb/evadb/test/in...\n",
      "data       [[[148, 135, 103], [244, 231, 187], [219, 209,...\n",
      "Name: 12, dtype: object\n",
      "_row_id                                                   14\n",
      "name       /Users/kacylombard/Desktop/evadb/evadb/test/in...\n",
      "data       [[[148, 135, 103], [244, 231, 187], [219, 209,...\n",
      "Name: 13, dtype: object\n",
      "_row_id                                                   15\n",
      "name       /Users/kacylombard/Desktop/evadb/evadb/test/in...\n",
      "data       [[[108, 102, 90], [107, 101, 89], [105, 99, 85...\n",
      "Name: 14, dtype: object\n",
      "_row_id                                                   16\n",
      "name       /Users/kacylombard/Desktop/evadb/evadb/test/in...\n",
      "data       [[[111, 57, 19], [100, 48, 11], [175, 122, 88]...\n",
      "Name: 15, dtype: object\n",
      "_row_id                                                   17\n",
      "name       /Users/kacylombard/Desktop/evadb/evadb/test/in...\n",
      "data       [[[227, 223, 220], [227, 223, 220], [227, 223,...\n",
      "Name: 16, dtype: object\n",
      "_row_id                                                   18\n",
      "name       /Users/kacylombard/Desktop/evadb/evadb/test/in...\n",
      "data       [[[106, 106, 98], [11, 11, 3], [11, 11, 3], [3...\n",
      "Name: 17, dtype: object\n",
      "_row_id                                                   19\n",
      "name       /Users/kacylombard/Desktop/evadb/evadb/test/in...\n",
      "data       [[[7, 9, 8], [7, 9, 8], [7, 9, 8], [7, 9, 8], ...\n",
      "Name: 18, dtype: object\n",
      "['https://pbxt.replicate.delivery/ElkhKgk62GbZIJ4n8DeDxMu65MpR8dDUgYBWRVF1VjVgKm3IA/out-0.png']\n"
     ]
    }
   ],
   "source": [
    "table = cursor.query(\"SELECT StableDiffusionLoRA(*) FROM MyImages GROUP BY 'name 19';\").df()\n"
   ]
  },
  {
   "cell_type": "code",
   "execution_count": null,
   "metadata": {},
   "outputs": [],
   "source": []
  }
 ],
 "metadata": {
  "kernelspec": {
   "display_name": "Python 3 (ipykernel)",
   "language": "python",
   "name": "python3"
  },
  "language_info": {
   "codemirror_mode": {
    "name": "ipython",
    "version": 3
   },
   "file_extension": ".py",
   "mimetype": "text/x-python",
   "name": "python",
   "nbconvert_exporter": "python",
   "pygments_lexer": "ipython3",
   "version": "3.11.5"
  },
  "vscode": {
   "interpreter": {
    "hash": "f6775fc9075811a078410cb443f9af5983a404b73f92064c67dd040f3260cbac"
   }
  }
 },
 "nbformat": 4,
 "nbformat_minor": 2
}

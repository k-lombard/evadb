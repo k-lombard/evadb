{
 "cells": [
  {
   "cell_type": "markdown",
   "metadata": {},
   "source": [
    "<table align=\"left\">\n",
    "  <td>\n",
    "    <a target=\"_blank\" href=\"https://colab.research.google.com/github/georgia-tech-db/eva/blob/master/tutorials/16-stable-diffusion.ipynb\"><img src=\"https://www.tensorflow.org/images/colab_logo_32px.png\" /> Run on Google Colab</a>\n",
    "  </td>\n",
    "  <td>\n",
    "    <a target=\"_blank\" href=\"https://github.com/georgia-tech-db/eva/blob/master/tutorials/16-stable-diffusion.ipynb\"><img src=\"https://www.tensorflow.org/images/GitHub-Mark-32px.png\" /> View source on GitHub</a>\n",
    "  </td>\n",
    "  <td>\n",
    "    <a target=\"_blank\" href=\"https://github.com/georgia-tech-db/eva/raw/master/tutorials/16-stable-diffusion.ipynb\"><img src=\"https://www.tensorflow.org/images/download_logo_32px.png\" /> Download notebook</a>\n",
    "  </td>\n",
    "</table><br><br>"
   ]
  },
  {
   "cell_type": "code",
   "execution_count": 1,
   "metadata": {},
   "outputs": [],
   "source": [
    "# Import dependencies\n",
    "import os\n",
    "from IPython.display import Image"
   ]
  },
  {
   "cell_type": "markdown",
   "metadata": {},
   "source": [
    "### Connect to EvaDB"
   ]
  },
  {
   "cell_type": "code",
   "execution_count": 2,
   "metadata": {},
   "outputs": [
    {
     "name": "stdout",
     "output_type": "stream",
     "text": [
      "Note: you may need to restart the kernel to use updated packages.\n"
     ]
    },
    {
     "name": "stderr",
     "output_type": "stream",
     "text": [
      "Downloading: \"http://ml.cs.tsinghua.edu.cn/~chenxi/pytorch-models/mnist-b07bb66b.pth\" to /Users/kacylombard/.cache/torch/hub/checkpoints/mnist-b07bb66b.pth\n",
      "100%|██████████████████████████████████████████████████████████████████████████████████████████████████████████████████████████████████████████████████| 1.03M/1.03M [00:01<00:00, 699kB/s]\n",
      "Downloading: \"https://download.pytorch.org/models/fasterrcnn_resnet50_fpn_coco-258fb6c6.pth\" to /Users/kacylombard/.cache/torch/hub/checkpoints/fasterrcnn_resnet50_fpn_coco-258fb6c6.pth\n",
      "Downloading https://github.com/ultralytics/assets/releases/download/v0.0.0/yolov8m.pt to 'yolov8m.pt'...\n",
      "100%|█████████████████████████████████████████████████████████████████████████████████████████████████████████████████████████████████████████████████| 49.7M/49.7M [00:01<00:00, 45.6MB/s]\n"
     ]
    }
   ],
   "source": [
    "%pip install --quiet \"evadb[document,notebook]\"\n",
    "import evadb\n",
    "cursor = evadb.connect().cursor()"
   ]
  },
  {
   "cell_type": "markdown",
   "metadata": {},
   "source": [
    "### Get Input Prompt from User"
   ]
  },
  {
   "cell_type": "code",
   "execution_count": 3,
   "metadata": {},
   "outputs": [],
   "source": [
    "# to collect all user prompts\n",
    "def get_user_input():\n",
    "    print('Welcome to EvaDB!')\n",
    "    print('Enter your image prompts one by one; type \\'exit\\' to stop entering prompts.')\n",
    "    print('========================================')\n",
    "    prompts = []\n",
    "    prompt=None\n",
    "\n",
    "    # receive all prompts from user\n",
    "    while True:\n",
    "        prompt = input(\n",
    "            'Enter prompt: '\n",
    "        ).strip()\n",
    "        if prompt in ['Exit', 'exit', 'EXIT']:\n",
    "            break\n",
    "        prompts.append(prompt)\n",
    "        print(prompt)\n",
    "\n",
    "    return prompts"
   ]
  },
  {
   "cell_type": "code",
   "execution_count": null,
   "metadata": {},
   "outputs": [
    {
     "name": "stdout",
     "output_type": "stream",
     "text": [
      "Welcome to EvaDB!\n",
      "Enter your image prompts one by one; type 'exit' to stop entering prompts.\n",
      "========================================\n"
     ]
    }
   ],
   "source": [
    "# getting user input\n",
    "prompts = get_user_input()"
   ]
  },
  {
   "cell_type": "markdown",
   "metadata": {},
   "source": [
    "### Set API Token Environment Variable"
   ]
  },
  {
   "cell_type": "code",
   "execution_count": 6,
   "metadata": {},
   "outputs": [],
   "source": [
    "# to set the replicate API token environment variable\n",
    "def set_replicate_token() -> None:\n",
    "    key = input('Enter your Replicate API Token: ').strip()\n",
    "\n",
    "    try:\n",
    "        os.environ['REPLICATE_API_TOKEN'] = key\n",
    "        print('Environment variable set successfully.')\n",
    "    except Exception as e:\n",
    "        print(\"❗️ Session ended with an error.\")\n",
    "        print(e)\n",
    "        print(\"===========================================\")"
   ]
  },
  {
   "cell_type": "code",
   "execution_count": 7,
   "metadata": {},
   "outputs": [
    {
     "name": "stdout",
     "output_type": "stream",
     "text": [
      "Environment variable set successfully.\n"
     ]
    }
   ],
   "source": [
    "# setting api token as env variable\n",
    "set_replicate_token()"
   ]
  },
  {
   "cell_type": "markdown",
   "metadata": {},
   "source": [
    "### Load the Stable Diffusion UDF"
   ]
  },
  {
   "cell_type": "code",
   "execution_count": null,
   "metadata": {},
   "outputs": [],
   "source": [
    "# set up the stable diffusion UDF available at functions/stable_diffusion.py\n",
    "cursor.query(\"\"\"CREATE FUNCTION IF NOT EXISTS StableDiffusion\n",
    "            IMPL  '../evadb/functions/stable_diffusion.py';\n",
    "                \"\"\").execute()"
   ]
  },
  {
   "cell_type": "markdown",
   "metadata": {},
   "source": [
    "### Create Table"
   ]
  },
  {
   "cell_type": "code",
   "execution_count": 9,
   "metadata": {},
   "outputs": [
    {
     "data": {
      "text/plain": [
       "<evadb.models.storage.batch.Batch at 0x7f7d21000bd0>"
      ]
     },
     "execution_count": 9,
     "metadata": {},
     "output_type": "execute_result"
    }
   ],
   "source": [
    "# delete the table if it already exists\n",
    "cursor.query(\"\"\"DROP TABLE IF EXISTS ImageGen\n",
    "                \"\"\").execute()\n",
    "\n",
    "# create the table specifying the type of the prompt column\n",
    "cursor.query(\"\"\"CREATE TABLE IF NOT EXISTS ImageGen (\n",
    "             prompt TEXT(100))\n",
    "                \"\"\").execute()"
   ]
  },
  {
   "cell_type": "markdown",
   "metadata": {},
   "source": [
    "### Load Prompts into Table"
   ]
  },
  {
   "cell_type": "code",
   "execution_count": 10,
   "metadata": {},
   "outputs": [],
   "source": [
    "# insert the prompts into the table\n",
    "for prompt in prompts:\n",
    "    cursor.query(f\"\"\"INSERT INTO ImageGen (prompt) VALUES ('{prompt}')\"\"\").execute()"
   ]
  },
  {
   "cell_type": "markdown",
   "metadata": {},
   "source": [
    "### Run Stable Diffusion on the Prompts"
   ]
  },
  {
   "cell_type": "code",
   "execution_count": 11,
   "metadata": {},
   "outputs": [],
   "source": [
    "# run stable diffusion on the prompts\n",
    "table = cursor.table(\"ImageGen\").select(\"StableDiffusion(prompt)\").df()"
   ]
  },
  {
   "cell_type": "code",
   "execution_count": 12,
   "metadata": {},
   "outputs": [],
   "source": [
    "# list of generated images\n",
    "generated_images = list(table[table.columns[0]])"
   ]
  },
  {
   "cell_type": "markdown",
   "metadata": {},
   "source": [
    "### Visualize the Generated Image(s)"
   ]
  },
  {
   "cell_type": "code",
   "execution_count": 13,
   "metadata": {},
   "outputs": [
    {
     "data": {
      "text/html": [
       "<img src=\"https://pbxt.replicate.delivery/FSnnvNbCAI6dNZRMkix1HYhXKeBDvPeQHAlnurvOpRx9p1oRA/out-0.png\"/>"
      ],
      "text/plain": [
       "<IPython.core.display.Image object>"
      ]
     },
     "execution_count": 13,
     "metadata": {},
     "output_type": "execute_result"
    }
   ],
   "source": [
    "# visualize the generated image\n",
    "Image(url=generated_images[0])"
   ]
  }
 ],
 "metadata": {
  "kernelspec": {
   "display_name": "Python 3 (ipykernel)",
   "language": "python",
   "name": "python3"
  },
  "language_info": {
   "codemirror_mode": {
    "name": "ipython",
    "version": 3
   },
   "file_extension": ".py",
   "mimetype": "text/x-python",
   "name": "python",
   "nbconvert_exporter": "python",
   "pygments_lexer": "ipython3",
   "version": "3.11.5"
  },
  "vscode": {
   "interpreter": {
    "hash": "f6775fc9075811a078410cb443f9af5983a404b73f92064c67dd040f3260cbac"
   }
  }
 },
 "nbformat": 4,
 "nbformat_minor": 2
}
